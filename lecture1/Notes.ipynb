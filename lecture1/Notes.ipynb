{
 "metadata": {
  "name": "Notes"
 },
 "nbformat": 3,
 "nbformat_minor": 0,
 "worksheets": [
  {
   "cells": [
    {
     "cell_type": "markdown",
     "metadata": {},
     "source": [
      "Basic LP can be represented as :\n",
      "$$Minimize \\displaystyle\\sum_{j=1}^{n} c_jx_j$$"
     ]
    },
    {
     "cell_type": "code",
     "collapsed": false,
     "input": [],
     "language": "python",
     "metadata": {},
     "outputs": []
    }
   ],
   "metadata": {}
  }
 ]
}